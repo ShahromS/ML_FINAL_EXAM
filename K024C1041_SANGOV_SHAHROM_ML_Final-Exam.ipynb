{
 "cells": [
  {
   "cell_type": "markdown",
   "metadata": {},
   "source": [
    "# 2024 年度後期『AI プログラミング実習』期末試験\n",
    "\n",
    "このファイルは 2/4 (火) に実施される 2024 年度後期「AI プログラミング実習」の期末試験の問題です。実施内容は以下の通りです。\n",
    "- 実施日時：2025 年 2 月 4 日（火）　9:30 ～ 12:00［1 組］、13:30 ～ 16:00［2 組］（途中退出可能）\n",
    "- 実施場所：30519, 30520 教室\n",
    "- 提出方法：該当の Google Classroom にて\n",
    "- ファイル名：学籍番号_氏名_ML_Final-Exam.ipynb\n",
    "- 回答方法：各セルの「#--- 回答欄（↓） ---#」から「#--- 回答欄（↑） ---#」の間にプログラムを記述する。また、解答欄以外の部分を修正してはならない。\n",
    "- 注意事項：インターネットに接続し、調べながら回答することは構いませんが、実施時間中にメールや SNS などを通じて他者とコミュニケーションすることはカンニングとみなし、退場となります。\n",
    "\n",
    "なお、このプログラムを実行し、実行できたところまでで評価します。上のセルを回答せず、下のセルを回答しても採点しないので注意してください。"
   ]
  },
  {
   "cell_type": "markdown",
   "metadata": {},
   "source": [
    "## ■データセットの内容\n",
    "\n",
    "この試験で使用するデータセットは、機械学習の学習でよく使用されるタイタニック号の生存者データ (Titanic - Machine Learning from Disaster) をこの試験用にアレンジしたものです。<br>\n",
    "格納されているデータフィールドは以下の通りです。\n",
    "\n",
    "### ◎データフィールド\n",
    "- PassengerId – 乗客識別ユニーク ID\n",
    "- Survived – 生存フラグ（0: 死亡, 1: 生存）\n",
    "- Pclass – チケットクラス\n",
    "- Name – 乗客の名前\n",
    "- Sex – 性別（male: 男性, female: 女性）\n",
    "- Age – 年齢\n",
    "- SibSp – タイタニックに同乗している兄弟 / 配偶者の数\n",
    "- Parch – タイタニックに同乗している親 / 子供の数\n",
    "- Ticket – チケット番号\n",
    "- Fare – 料金\n",
    "- Cabin – 客室番号\n",
    "- Embarked – 出港地（タイタニックへ乗った港）\n",
    "\n",
    "なお、このデータセットの問題はクラス分類に該当します。\n"
   ]
  },
  {
   "cell_type": "markdown",
   "metadata": {},
   "source": [
    "## ■説明変数と目的変数\n",
    "\n",
    "このデータセット内で使用する説明変数と目的変数は以下の通りです。\n",
    "\n",
    "### ◎説明変数\n",
    "- Pclass – チケットクラス　＜カテゴリー変数＞\n",
    "- Sex – 性別（male: 男性, female: 女性）　＜カテゴリー変数＞\n",
    "- Age – 年齢\n",
    "- SibSp – タイタニックに同乗している兄弟/配偶者の数\n",
    "- Parch – タイタニックに同乗している親/子供の数\n",
    "- Fare – 料金\n",
    "- Embarked – 出港地（タイタニックへ乗った港）　＜カカテゴリー変数＞\n",
    "\n",
    "### ◎目的変数\n",
    "- Survived – 生存フラグ（0: 死亡, 1: 生存）"
   ]
  },
  {
   "cell_type": "code",
   "metadata": {
    "ExecuteTime": {
     "end_time": "2025-02-04T00:52:22.275528Z",
     "start_time": "2025-02-04T00:52:22.271296Z"
    }
   },
   "source": [
    "import numpy as np\n",
    "import pandas as pd\n",
    "from sklearn.preprocessing import OneHotEncoder, StandardScaler\n",
    "from sklearn.impute import SimpleImputer\n",
    "from sklearn.ensemble import RandomForestClassifier\n",
    "from sklearn.linear_model import LogisticRegression\n",
    "from sklearn.feature_selection import RFE, RFECV\n",
    "from sklearn.decomposition import PCA\n",
    "from sklearn.pipeline import Pipeline\n",
    "from sklearn.model_selection import GridSearchCV, train_test_split, cross_val_score\n",
    "from sklearn.metrics import accuracy_score, f1_score, roc_auc_score"
   ],
   "outputs": [],
   "execution_count": 116
  },
  {
   "cell_type": "markdown",
   "metadata": {},
   "source": [
    "---\n",
    "## ■問題１\n",
    "\n",
    "ここでは、生存実績データを読み込み、前処理を行い、モデルを作成をするところまで問います。この問題をすべて回答すると、成績は B となります。"
   ]
  },
  {
   "cell_type": "markdown",
   "metadata": {},
   "source": [
    "### ◎ Step 1\n",
    "\n",
    "1. タイタニックの生存実績データ [titanic_survived_data.csv] を読み込む\n",
    "1. 説明変数と目的変数を選別し、それぞれ別の変数に格納する\n",
    "    - 説明変数：Pclass, Sex, Age, SibSp, Parch, Fare, Embarked\n",
    "    - 目的変数：Embarked\n",
    "\n",
    "ただし、データを読み込む際、カテゴリー変数（Pclass, Sex, Embarked）のデータ型を object として指定しないと、次の［問題２］で正常に動作しなくなるので注意すること。"
   ]
  },
  {
   "cell_type": "code",
   "metadata": {
    "ExecuteTime": {
     "end_time": "2025-02-04T00:52:22.341459Z",
     "start_time": "2025-02-04T00:52:22.328535Z"
    }
   },
   "source": [
    "#------------------------------------------------------------#\n",
    "# データの読み込み\n",
    "#------------------------------------------------------------#\n",
    "#--- 回答欄（↓） ---#\n",
    "df = pd.read_csv(r\"C:\\Users\\shaha\\Desktop\\final_exam_AI_produce\\titanic_survived_data.csv\")                  # 生存実績データの読み込み\n",
    "x_data = df.iloc[:, [2, 4, 5, 6, 7, 9, 11]]  # 説明変数を格納 (Pclass, Sex, Age, SibSp, Parch, Fare, Embarked)\n",
    "y_data = df.iloc[:, 1]                # 目的変数を格納\n",
    "#--- 回答欄（↑） ---#\n",
    "\n",
    "display(x_data.head())\n",
    "display(y_data.head())"
   ],
   "outputs": [
    {
     "data": {
      "text/plain": [
       "   Pclass     Sex   Age  SibSp  Parch     Fare Embarked\n",
       "0       3    male  22.0      1      0   7.2500        S\n",
       "1       1  female  38.0      1      0  71.2833        C\n",
       "2       3  female  26.0      0      0   7.9250        S\n",
       "3       1  female  35.0      1      0  53.1000        S\n",
       "4       3    male  35.0      0      0   8.0500        S"
      ],
      "text/html": [
       "<div>\n",
       "<style scoped>\n",
       "    .dataframe tbody tr th:only-of-type {\n",
       "        vertical-align: middle;\n",
       "    }\n",
       "\n",
       "    .dataframe tbody tr th {\n",
       "        vertical-align: top;\n",
       "    }\n",
       "\n",
       "    .dataframe thead th {\n",
       "        text-align: right;\n",
       "    }\n",
       "</style>\n",
       "<table border=\"1\" class=\"dataframe\">\n",
       "  <thead>\n",
       "    <tr style=\"text-align: right;\">\n",
       "      <th></th>\n",
       "      <th>Pclass</th>\n",
       "      <th>Sex</th>\n",
       "      <th>Age</th>\n",
       "      <th>SibSp</th>\n",
       "      <th>Parch</th>\n",
       "      <th>Fare</th>\n",
       "      <th>Embarked</th>\n",
       "    </tr>\n",
       "  </thead>\n",
       "  <tbody>\n",
       "    <tr>\n",
       "      <th>0</th>\n",
       "      <td>3</td>\n",
       "      <td>male</td>\n",
       "      <td>22.0</td>\n",
       "      <td>1</td>\n",
       "      <td>0</td>\n",
       "      <td>7.2500</td>\n",
       "      <td>S</td>\n",
       "    </tr>\n",
       "    <tr>\n",
       "      <th>1</th>\n",
       "      <td>1</td>\n",
       "      <td>female</td>\n",
       "      <td>38.0</td>\n",
       "      <td>1</td>\n",
       "      <td>0</td>\n",
       "      <td>71.2833</td>\n",
       "      <td>C</td>\n",
       "    </tr>\n",
       "    <tr>\n",
       "      <th>2</th>\n",
       "      <td>3</td>\n",
       "      <td>female</td>\n",
       "      <td>26.0</td>\n",
       "      <td>0</td>\n",
       "      <td>0</td>\n",
       "      <td>7.9250</td>\n",
       "      <td>S</td>\n",
       "    </tr>\n",
       "    <tr>\n",
       "      <th>3</th>\n",
       "      <td>1</td>\n",
       "      <td>female</td>\n",
       "      <td>35.0</td>\n",
       "      <td>1</td>\n",
       "      <td>0</td>\n",
       "      <td>53.1000</td>\n",
       "      <td>S</td>\n",
       "    </tr>\n",
       "    <tr>\n",
       "      <th>4</th>\n",
       "      <td>3</td>\n",
       "      <td>male</td>\n",
       "      <td>35.0</td>\n",
       "      <td>0</td>\n",
       "      <td>0</td>\n",
       "      <td>8.0500</td>\n",
       "      <td>S</td>\n",
       "    </tr>\n",
       "  </tbody>\n",
       "</table>\n",
       "</div>"
      ]
     },
     "metadata": {},
     "output_type": "display_data"
    },
    {
     "data": {
      "text/plain": [
       "0    0\n",
       "1    1\n",
       "2    1\n",
       "3    1\n",
       "4    0\n",
       "Name: Survived, dtype: int64"
      ]
     },
     "metadata": {},
     "output_type": "display_data"
    }
   ],
   "execution_count": 117
  },
  {
   "cell_type": "markdown",
   "metadata": {},
   "source": [
    "### ◎ Step 2\n",
    "\n",
    "1. One-hot Encoding を行う\n",
    "1. One-hot の対象となるカテゴリー変数は以下の通り\n",
    "    - カテゴリー変数：Pclass, Sex, Embarked\n",
    "1. データフレームを再構成する"
   ]
  },
  {
   "cell_type": "code",
   "metadata": {
    "ExecuteTime": {
     "end_time": "2025-02-04T00:52:22.355976Z",
     "start_time": "2025-02-04T00:52:22.342466Z"
    }
   },
   "source": [
    "#------------------------------------------------------------#\n",
    "# One-hot Encoding\n",
    "#------------------------------------------------------------#\n",
    "#--- 回答欄（↓） ---#\n",
    "ohe_target =  [\"Pclass\", \"Sex\", \"Embarked\"]                  # One-hot Encoding の対象となるカラムを指定\n",
    "\n",
    "encoder = OneHotEncoder(sparse_output=False)\n",
    "\n",
    "x_data_ohe = encoder.fit_transform(x_data[ohe_target])                          # 出力は One-hot 対象のカラムのみ\n",
    "ohe_cols = encoder.get_feature_names_out(input_features=ohe_target)             # カラム名を取得\n",
    "x_data_ohe = pd.concat([x_data.drop(columns=ohe_target), pd.DataFrame(x_data_ohe, columns=ohe_cols)], axis=1)\n",
    "#--- 回答欄（↑） ---#\n",
    "\n",
    "display(x_data_ohe.head())\n",
    "display(x_data_ohe.columns)"
   ],
   "outputs": [
    {
     "data": {
      "text/plain": [
       "    Age  SibSp  Parch     Fare  Pclass_1  Pclass_2  Pclass_3  Sex_female  \\\n",
       "0  22.0      1      0   7.2500       0.0       0.0       1.0         0.0   \n",
       "1  38.0      1      0  71.2833       1.0       0.0       0.0         1.0   \n",
       "2  26.0      0      0   7.9250       0.0       0.0       1.0         1.0   \n",
       "3  35.0      1      0  53.1000       1.0       0.0       0.0         1.0   \n",
       "4  35.0      0      0   8.0500       0.0       0.0       1.0         0.0   \n",
       "\n",
       "   Sex_male  Embarked_C  Embarked_Q  Embarked_S  Embarked_nan  \n",
       "0       1.0         0.0         0.0         1.0           0.0  \n",
       "1       0.0         1.0         0.0         0.0           0.0  \n",
       "2       0.0         0.0         0.0         1.0           0.0  \n",
       "3       0.0         0.0         0.0         1.0           0.0  \n",
       "4       1.0         0.0         0.0         1.0           0.0  "
      ],
      "text/html": [
       "<div>\n",
       "<style scoped>\n",
       "    .dataframe tbody tr th:only-of-type {\n",
       "        vertical-align: middle;\n",
       "    }\n",
       "\n",
       "    .dataframe tbody tr th {\n",
       "        vertical-align: top;\n",
       "    }\n",
       "\n",
       "    .dataframe thead th {\n",
       "        text-align: right;\n",
       "    }\n",
       "</style>\n",
       "<table border=\"1\" class=\"dataframe\">\n",
       "  <thead>\n",
       "    <tr style=\"text-align: right;\">\n",
       "      <th></th>\n",
       "      <th>Age</th>\n",
       "      <th>SibSp</th>\n",
       "      <th>Parch</th>\n",
       "      <th>Fare</th>\n",
       "      <th>Pclass_1</th>\n",
       "      <th>Pclass_2</th>\n",
       "      <th>Pclass_3</th>\n",
       "      <th>Sex_female</th>\n",
       "      <th>Sex_male</th>\n",
       "      <th>Embarked_C</th>\n",
       "      <th>Embarked_Q</th>\n",
       "      <th>Embarked_S</th>\n",
       "      <th>Embarked_nan</th>\n",
       "    </tr>\n",
       "  </thead>\n",
       "  <tbody>\n",
       "    <tr>\n",
       "      <th>0</th>\n",
       "      <td>22.0</td>\n",
       "      <td>1</td>\n",
       "      <td>0</td>\n",
       "      <td>7.2500</td>\n",
       "      <td>0.0</td>\n",
       "      <td>0.0</td>\n",
       "      <td>1.0</td>\n",
       "      <td>0.0</td>\n",
       "      <td>1.0</td>\n",
       "      <td>0.0</td>\n",
       "      <td>0.0</td>\n",
       "      <td>1.0</td>\n",
       "      <td>0.0</td>\n",
       "    </tr>\n",
       "    <tr>\n",
       "      <th>1</th>\n",
       "      <td>38.0</td>\n",
       "      <td>1</td>\n",
       "      <td>0</td>\n",
       "      <td>71.2833</td>\n",
       "      <td>1.0</td>\n",
       "      <td>0.0</td>\n",
       "      <td>0.0</td>\n",
       "      <td>1.0</td>\n",
       "      <td>0.0</td>\n",
       "      <td>1.0</td>\n",
       "      <td>0.0</td>\n",
       "      <td>0.0</td>\n",
       "      <td>0.0</td>\n",
       "    </tr>\n",
       "    <tr>\n",
       "      <th>2</th>\n",
       "      <td>26.0</td>\n",
       "      <td>0</td>\n",
       "      <td>0</td>\n",
       "      <td>7.9250</td>\n",
       "      <td>0.0</td>\n",
       "      <td>0.0</td>\n",
       "      <td>1.0</td>\n",
       "      <td>1.0</td>\n",
       "      <td>0.0</td>\n",
       "      <td>0.0</td>\n",
       "      <td>0.0</td>\n",
       "      <td>1.0</td>\n",
       "      <td>0.0</td>\n",
       "    </tr>\n",
       "    <tr>\n",
       "      <th>3</th>\n",
       "      <td>35.0</td>\n",
       "      <td>1</td>\n",
       "      <td>0</td>\n",
       "      <td>53.1000</td>\n",
       "      <td>1.0</td>\n",
       "      <td>0.0</td>\n",
       "      <td>0.0</td>\n",
       "      <td>1.0</td>\n",
       "      <td>0.0</td>\n",
       "      <td>0.0</td>\n",
       "      <td>0.0</td>\n",
       "      <td>1.0</td>\n",
       "      <td>0.0</td>\n",
       "    </tr>\n",
       "    <tr>\n",
       "      <th>4</th>\n",
       "      <td>35.0</td>\n",
       "      <td>0</td>\n",
       "      <td>0</td>\n",
       "      <td>8.0500</td>\n",
       "      <td>0.0</td>\n",
       "      <td>0.0</td>\n",
       "      <td>1.0</td>\n",
       "      <td>0.0</td>\n",
       "      <td>1.0</td>\n",
       "      <td>0.0</td>\n",
       "      <td>0.0</td>\n",
       "      <td>1.0</td>\n",
       "      <td>0.0</td>\n",
       "    </tr>\n",
       "  </tbody>\n",
       "</table>\n",
       "</div>"
      ]
     },
     "metadata": {},
     "output_type": "display_data"
    },
    {
     "data": {
      "text/plain": [
       "Index(['Age', 'SibSp', 'Parch', 'Fare', 'Pclass_1', 'Pclass_2', 'Pclass_3',\n",
       "       'Sex_female', 'Sex_male', 'Embarked_C', 'Embarked_Q', 'Embarked_S',\n",
       "       'Embarked_nan'],\n",
       "      dtype='object')"
      ]
     },
     "metadata": {},
     "output_type": "display_data"
    }
   ],
   "execution_count": 118
  },
  {
   "cell_type": "markdown",
   "metadata": {},
   "source": [
    "### ◎ Step 3\n",
    "\n",
    "1. train_test_split を行う\n",
    "1. パラメーターは以下の通りとする\n",
    "    - test_size=0.2\n",
    "    - random_state=0\n",
    "1. データフレームを再構成する\n",
    "\n",
    "なお、目的変数を指定する際は y_data.astype(int) として int 型でデータ型を指定すること"
   ]
  },
  {
   "cell_type": "code",
   "metadata": {
    "ExecuteTime": {
     "end_time": "2025-02-04T00:52:22.363394Z",
     "start_time": "2025-02-04T00:52:22.357260Z"
    }
   },
   "source": [
    "#------------------------------------------------------------#\n",
    "# train_test_split\n",
    "#------------------------------------------------------------#\n",
    "#--- 回答欄（↓） ---#\n",
    "x_train, x_test, y_train, y_test = train_test_split(\n",
    "    x_data_ohe, y_data, test_size=0.2, random_state=42, stratify=y_data)                    \n",
    "\n",
    "x_train =  pd.DataFrame(x_train, columns=x_data_ohe.columns)                 # DataFrame を再構成\n",
    "x_test = pd.DataFrame(x_test, columns=x_data_ohe.columns)                   # DataFrame を再構成\n",
    "y_train = pd.DataFrame(y_train, columns=[\"Survived\"])                  # DataFrame を再構成\n",
    "y_test =  pd.DataFrame(y_test, columns=[\"Survived\"])                  # DataFrame を再構成\n",
    "#--- 回答欄（↑） ---#"
   ],
   "outputs": [],
   "execution_count": 119
  },
  {
   "cell_type": "markdown",
   "metadata": {},
   "source": [
    "### ◎ Step 4\n",
    "\n",
    "1. SimpleImputer を使用して欠損値補完を行う\n",
    "1. パラメーターは以下の通りとする\n",
    "    - missing_values=np.nan\n",
    "    - strategy='mean'\n",
    "1. データフレームを再構成する\n",
    "\n",
    "なお、目的変数を指定する際は y_data.astype(int) として int 型でデータ型を指定すること"
   ]
  },
  {
   "cell_type": "code",
   "metadata": {
    "ExecuteTime": {
     "end_time": "2025-02-04T00:52:22.385796Z",
     "start_time": "2025-02-04T00:52:22.364399Z"
    }
   },
   "source": [
    "#------------------------------------------------------------#\n",
    "# 欠損値補完\n",
    "#------------------------------------------------------------#\n",
    "#--- 回答欄（↓） ---#\n",
    "imputer =    SimpleImputer(missing_values=np.nan, strategy=\"mean\")                         \n",
    "\n",
    "x_train_imp = imputer.fit_transform(x_train)    # SimpleImputer を実行\n",
    "x_train_imp =  pd.DataFrame(x_train_imp, columns=x_train.columns)                             # DataFrame を再構成\n",
    "\n",
    "x_test_imp = imputer.fit_transform(x_test)     # SimpleImputer を実行\n",
    "x_test_imp = pd.DataFrame(x_test_imp, columns=x_test.columns)                                # DataFrame を再構成\n",
    "#--- 回答欄（↑） ---#\n",
    "\n",
    "display(x_train_imp.head())\n",
    "display(x_train_imp.shape)\n",
    "\n",
    "display(x_test_imp.head())\n",
    "display(x_test_imp.shape)"
   ],
   "outputs": [
    {
     "data": {
      "text/plain": [
       "         Age  SibSp  Parch      Fare  Pclass_1  Pclass_2  Pclass_3  \\\n",
       "0  29.807687    0.0    0.0   56.4958       0.0       0.0       1.0   \n",
       "1  29.807687    0.0    0.0    0.0000       0.0       1.0       0.0   \n",
       "2  29.807687    0.0    0.0  221.7792       1.0       0.0       0.0   \n",
       "3  18.000000    0.0    1.0    9.3500       0.0       0.0       1.0   \n",
       "4  31.000000    1.0    1.0   26.2500       0.0       1.0       0.0   \n",
       "\n",
       "   Sex_female  Sex_male  Embarked_C  Embarked_Q  Embarked_S  Embarked_nan  \n",
       "0         0.0       1.0         0.0         0.0         1.0           0.0  \n",
       "1         0.0       1.0         0.0         0.0         1.0           0.0  \n",
       "2         0.0       1.0         0.0         0.0         1.0           0.0  \n",
       "3         1.0       0.0         0.0         0.0         1.0           0.0  \n",
       "4         1.0       0.0         0.0         0.0         1.0           0.0  "
      ],
      "text/html": [
       "<div>\n",
       "<style scoped>\n",
       "    .dataframe tbody tr th:only-of-type {\n",
       "        vertical-align: middle;\n",
       "    }\n",
       "\n",
       "    .dataframe tbody tr th {\n",
       "        vertical-align: top;\n",
       "    }\n",
       "\n",
       "    .dataframe thead th {\n",
       "        text-align: right;\n",
       "    }\n",
       "</style>\n",
       "<table border=\"1\" class=\"dataframe\">\n",
       "  <thead>\n",
       "    <tr style=\"text-align: right;\">\n",
       "      <th></th>\n",
       "      <th>Age</th>\n",
       "      <th>SibSp</th>\n",
       "      <th>Parch</th>\n",
       "      <th>Fare</th>\n",
       "      <th>Pclass_1</th>\n",
       "      <th>Pclass_2</th>\n",
       "      <th>Pclass_3</th>\n",
       "      <th>Sex_female</th>\n",
       "      <th>Sex_male</th>\n",
       "      <th>Embarked_C</th>\n",
       "      <th>Embarked_Q</th>\n",
       "      <th>Embarked_S</th>\n",
       "      <th>Embarked_nan</th>\n",
       "    </tr>\n",
       "  </thead>\n",
       "  <tbody>\n",
       "    <tr>\n",
       "      <th>0</th>\n",
       "      <td>29.807687</td>\n",
       "      <td>0.0</td>\n",
       "      <td>0.0</td>\n",
       "      <td>56.4958</td>\n",
       "      <td>0.0</td>\n",
       "      <td>0.0</td>\n",
       "      <td>1.0</td>\n",
       "      <td>0.0</td>\n",
       "      <td>1.0</td>\n",
       "      <td>0.0</td>\n",
       "      <td>0.0</td>\n",
       "      <td>1.0</td>\n",
       "      <td>0.0</td>\n",
       "    </tr>\n",
       "    <tr>\n",
       "      <th>1</th>\n",
       "      <td>29.807687</td>\n",
       "      <td>0.0</td>\n",
       "      <td>0.0</td>\n",
       "      <td>0.0000</td>\n",
       "      <td>0.0</td>\n",
       "      <td>1.0</td>\n",
       "      <td>0.0</td>\n",
       "      <td>0.0</td>\n",
       "      <td>1.0</td>\n",
       "      <td>0.0</td>\n",
       "      <td>0.0</td>\n",
       "      <td>1.0</td>\n",
       "      <td>0.0</td>\n",
       "    </tr>\n",
       "    <tr>\n",
       "      <th>2</th>\n",
       "      <td>29.807687</td>\n",
       "      <td>0.0</td>\n",
       "      <td>0.0</td>\n",
       "      <td>221.7792</td>\n",
       "      <td>1.0</td>\n",
       "      <td>0.0</td>\n",
       "      <td>0.0</td>\n",
       "      <td>0.0</td>\n",
       "      <td>1.0</td>\n",
       "      <td>0.0</td>\n",
       "      <td>0.0</td>\n",
       "      <td>1.0</td>\n",
       "      <td>0.0</td>\n",
       "    </tr>\n",
       "    <tr>\n",
       "      <th>3</th>\n",
       "      <td>18.000000</td>\n",
       "      <td>0.0</td>\n",
       "      <td>1.0</td>\n",
       "      <td>9.3500</td>\n",
       "      <td>0.0</td>\n",
       "      <td>0.0</td>\n",
       "      <td>1.0</td>\n",
       "      <td>1.0</td>\n",
       "      <td>0.0</td>\n",
       "      <td>0.0</td>\n",
       "      <td>0.0</td>\n",
       "      <td>1.0</td>\n",
       "      <td>0.0</td>\n",
       "    </tr>\n",
       "    <tr>\n",
       "      <th>4</th>\n",
       "      <td>31.000000</td>\n",
       "      <td>1.0</td>\n",
       "      <td>1.0</td>\n",
       "      <td>26.2500</td>\n",
       "      <td>0.0</td>\n",
       "      <td>1.0</td>\n",
       "      <td>0.0</td>\n",
       "      <td>1.0</td>\n",
       "      <td>0.0</td>\n",
       "      <td>0.0</td>\n",
       "      <td>0.0</td>\n",
       "      <td>1.0</td>\n",
       "      <td>0.0</td>\n",
       "    </tr>\n",
       "  </tbody>\n",
       "</table>\n",
       "</div>"
      ]
     },
     "metadata": {},
     "output_type": "display_data"
    },
    {
     "data": {
      "text/plain": [
       "(712, 13)"
      ]
     },
     "metadata": {},
     "output_type": "display_data"
    },
    {
     "data": {
      "text/plain": [
       "     Age  SibSp  Parch     Fare  Pclass_1  Pclass_2  Pclass_3  Sex_female  \\\n",
       "0  24.00    2.0    0.0  24.1500       0.0       0.0       1.0         0.0   \n",
       "1  44.00    0.0    1.0  16.1000       0.0       0.0       1.0         0.0   \n",
       "2  22.00    0.0    0.0   7.2250       0.0       0.0       1.0         0.0   \n",
       "3  41.00    2.0    0.0  14.1083       0.0       0.0       1.0         0.0   \n",
       "4  29.25    1.0    0.0  15.5000       0.0       0.0       1.0         1.0   \n",
       "\n",
       "   Sex_male  Embarked_C  Embarked_Q  Embarked_S  Embarked_nan  \n",
       "0       1.0         0.0         0.0         1.0           0.0  \n",
       "1       1.0         0.0         0.0         1.0           0.0  \n",
       "2       1.0         1.0         0.0         0.0           0.0  \n",
       "3       1.0         0.0         0.0         1.0           0.0  \n",
       "4       0.0         0.0         1.0         0.0           0.0  "
      ],
      "text/html": [
       "<div>\n",
       "<style scoped>\n",
       "    .dataframe tbody tr th:only-of-type {\n",
       "        vertical-align: middle;\n",
       "    }\n",
       "\n",
       "    .dataframe tbody tr th {\n",
       "        vertical-align: top;\n",
       "    }\n",
       "\n",
       "    .dataframe thead th {\n",
       "        text-align: right;\n",
       "    }\n",
       "</style>\n",
       "<table border=\"1\" class=\"dataframe\">\n",
       "  <thead>\n",
       "    <tr style=\"text-align: right;\">\n",
       "      <th></th>\n",
       "      <th>Age</th>\n",
       "      <th>SibSp</th>\n",
       "      <th>Parch</th>\n",
       "      <th>Fare</th>\n",
       "      <th>Pclass_1</th>\n",
       "      <th>Pclass_2</th>\n",
       "      <th>Pclass_3</th>\n",
       "      <th>Sex_female</th>\n",
       "      <th>Sex_male</th>\n",
       "      <th>Embarked_C</th>\n",
       "      <th>Embarked_Q</th>\n",
       "      <th>Embarked_S</th>\n",
       "      <th>Embarked_nan</th>\n",
       "    </tr>\n",
       "  </thead>\n",
       "  <tbody>\n",
       "    <tr>\n",
       "      <th>0</th>\n",
       "      <td>24.00</td>\n",
       "      <td>2.0</td>\n",
       "      <td>0.0</td>\n",
       "      <td>24.1500</td>\n",
       "      <td>0.0</td>\n",
       "      <td>0.0</td>\n",
       "      <td>1.0</td>\n",
       "      <td>0.0</td>\n",
       "      <td>1.0</td>\n",
       "      <td>0.0</td>\n",
       "      <td>0.0</td>\n",
       "      <td>1.0</td>\n",
       "      <td>0.0</td>\n",
       "    </tr>\n",
       "    <tr>\n",
       "      <th>1</th>\n",
       "      <td>44.00</td>\n",
       "      <td>0.0</td>\n",
       "      <td>1.0</td>\n",
       "      <td>16.1000</td>\n",
       "      <td>0.0</td>\n",
       "      <td>0.0</td>\n",
       "      <td>1.0</td>\n",
       "      <td>0.0</td>\n",
       "      <td>1.0</td>\n",
       "      <td>0.0</td>\n",
       "      <td>0.0</td>\n",
       "      <td>1.0</td>\n",
       "      <td>0.0</td>\n",
       "    </tr>\n",
       "    <tr>\n",
       "      <th>2</th>\n",
       "      <td>22.00</td>\n",
       "      <td>0.0</td>\n",
       "      <td>0.0</td>\n",
       "      <td>7.2250</td>\n",
       "      <td>0.0</td>\n",
       "      <td>0.0</td>\n",
       "      <td>1.0</td>\n",
       "      <td>0.0</td>\n",
       "      <td>1.0</td>\n",
       "      <td>1.0</td>\n",
       "      <td>0.0</td>\n",
       "      <td>0.0</td>\n",
       "      <td>0.0</td>\n",
       "    </tr>\n",
       "    <tr>\n",
       "      <th>3</th>\n",
       "      <td>41.00</td>\n",
       "      <td>2.0</td>\n",
       "      <td>0.0</td>\n",
       "      <td>14.1083</td>\n",
       "      <td>0.0</td>\n",
       "      <td>0.0</td>\n",
       "      <td>1.0</td>\n",
       "      <td>0.0</td>\n",
       "      <td>1.0</td>\n",
       "      <td>0.0</td>\n",
       "      <td>0.0</td>\n",
       "      <td>1.0</td>\n",
       "      <td>0.0</td>\n",
       "    </tr>\n",
       "    <tr>\n",
       "      <th>4</th>\n",
       "      <td>29.25</td>\n",
       "      <td>1.0</td>\n",
       "      <td>0.0</td>\n",
       "      <td>15.5000</td>\n",
       "      <td>0.0</td>\n",
       "      <td>0.0</td>\n",
       "      <td>1.0</td>\n",
       "      <td>1.0</td>\n",
       "      <td>0.0</td>\n",
       "      <td>0.0</td>\n",
       "      <td>1.0</td>\n",
       "      <td>0.0</td>\n",
       "      <td>0.0</td>\n",
       "    </tr>\n",
       "  </tbody>\n",
       "</table>\n",
       "</div>"
      ]
     },
     "metadata": {},
     "output_type": "display_data"
    },
    {
     "data": {
      "text/plain": [
       "(179, 13)"
      ]
     },
     "metadata": {},
     "output_type": "display_data"
    }
   ],
   "execution_count": 120
  },
  {
   "cell_type": "markdown",
   "metadata": {},
   "source": [
    "### ◎ Step 5\n",
    "\n",
    "1. StandardScaler を使用して標準化を行う\n",
    "1. パラメーターは以下の通りとする\n",
    "    - 特になし\n",
    "1. データフレームを再構成する"
   ]
  },
  {
   "cell_type": "code",
   "metadata": {
    "ExecuteTime": {
     "end_time": "2025-02-04T00:52:22.405157Z",
     "start_time": "2025-02-04T00:52:22.386802Z"
    }
   },
   "source": [
    "#------------------------------------------------------------#\n",
    "# 標準化\n",
    "#------------------------------------------------------------#\n",
    "#--- 回答欄（↓） ---#\n",
    "scaler = StandardScaler()                                   # StandardScaler を構成\n",
    "\n",
    "x_train_std = scaler.fit_transform(x_train_imp)     # StandardScaler を実行\n",
    "x_train_std = pd.DataFrame(x_train_std, columns=x_train_imp.columns)     \n",
    "\n",
    "x_test_std = scaler.fit_transform(x_test_imp)      # StandardScaler を実行\n",
    "x_test_std = pd.DataFrame(x_test_std, columns=x_test_imp.columns)                               # DataFrame を再構成\n",
    "#--- 回答欄（↑） ---#\n",
    "\n",
    "display(x_train_std.head())\n",
    "display(x_train_std.shape)\n",
    "\n",
    "display(x_test_std.head())\n",
    "display(x_test_std.shape)"
   ],
   "outputs": [
    {
     "data": {
      "text/plain": [
       "            Age     SibSp     Parch      Fare  Pclass_1  Pclass_2  Pclass_3  \\\n",
       "0 -5.463229e-16 -0.465084 -0.466183  0.513812 -0.562211 -0.516627  0.906075   \n",
       "1 -5.463229e-16 -0.465084 -0.466183 -0.662563 -0.562211  1.935631 -1.103661   \n",
       "2 -5.463229e-16 -0.465084 -0.466183  3.955399  1.778691 -0.516627 -1.103661   \n",
       "3 -9.078708e-01 -0.465084  0.727782 -0.467874 -0.562211 -0.516627  0.906075   \n",
       "4  9.167471e-02  0.478335  0.727782 -0.115977 -0.562211  1.935631 -1.103661   \n",
       "\n",
       "   Sex_female  Sex_male  Embarked_C  Embarked_Q  Embarked_S  Embarked_nan  \n",
       "0   -0.742427  0.742427   -0.492527   -0.289333    0.616316     -0.053074  \n",
       "1   -0.742427  0.742427   -0.492527   -0.289333    0.616316     -0.053074  \n",
       "2   -0.742427  0.742427   -0.492527   -0.289333    0.616316     -0.053074  \n",
       "3    1.346933 -1.346933   -0.492527   -0.289333    0.616316     -0.053074  \n",
       "4    1.346933 -1.346933   -0.492527   -0.289333    0.616316     -0.053074  "
      ],
      "text/html": [
       "<div>\n",
       "<style scoped>\n",
       "    .dataframe tbody tr th:only-of-type {\n",
       "        vertical-align: middle;\n",
       "    }\n",
       "\n",
       "    .dataframe tbody tr th {\n",
       "        vertical-align: top;\n",
       "    }\n",
       "\n",
       "    .dataframe thead th {\n",
       "        text-align: right;\n",
       "    }\n",
       "</style>\n",
       "<table border=\"1\" class=\"dataframe\">\n",
       "  <thead>\n",
       "    <tr style=\"text-align: right;\">\n",
       "      <th></th>\n",
       "      <th>Age</th>\n",
       "      <th>SibSp</th>\n",
       "      <th>Parch</th>\n",
       "      <th>Fare</th>\n",
       "      <th>Pclass_1</th>\n",
       "      <th>Pclass_2</th>\n",
       "      <th>Pclass_3</th>\n",
       "      <th>Sex_female</th>\n",
       "      <th>Sex_male</th>\n",
       "      <th>Embarked_C</th>\n",
       "      <th>Embarked_Q</th>\n",
       "      <th>Embarked_S</th>\n",
       "      <th>Embarked_nan</th>\n",
       "    </tr>\n",
       "  </thead>\n",
       "  <tbody>\n",
       "    <tr>\n",
       "      <th>0</th>\n",
       "      <td>-5.463229e-16</td>\n",
       "      <td>-0.465084</td>\n",
       "      <td>-0.466183</td>\n",
       "      <td>0.513812</td>\n",
       "      <td>-0.562211</td>\n",
       "      <td>-0.516627</td>\n",
       "      <td>0.906075</td>\n",
       "      <td>-0.742427</td>\n",
       "      <td>0.742427</td>\n",
       "      <td>-0.492527</td>\n",
       "      <td>-0.289333</td>\n",
       "      <td>0.616316</td>\n",
       "      <td>-0.053074</td>\n",
       "    </tr>\n",
       "    <tr>\n",
       "      <th>1</th>\n",
       "      <td>-5.463229e-16</td>\n",
       "      <td>-0.465084</td>\n",
       "      <td>-0.466183</td>\n",
       "      <td>-0.662563</td>\n",
       "      <td>-0.562211</td>\n",
       "      <td>1.935631</td>\n",
       "      <td>-1.103661</td>\n",
       "      <td>-0.742427</td>\n",
       "      <td>0.742427</td>\n",
       "      <td>-0.492527</td>\n",
       "      <td>-0.289333</td>\n",
       "      <td>0.616316</td>\n",
       "      <td>-0.053074</td>\n",
       "    </tr>\n",
       "    <tr>\n",
       "      <th>2</th>\n",
       "      <td>-5.463229e-16</td>\n",
       "      <td>-0.465084</td>\n",
       "      <td>-0.466183</td>\n",
       "      <td>3.955399</td>\n",
       "      <td>1.778691</td>\n",
       "      <td>-0.516627</td>\n",
       "      <td>-1.103661</td>\n",
       "      <td>-0.742427</td>\n",
       "      <td>0.742427</td>\n",
       "      <td>-0.492527</td>\n",
       "      <td>-0.289333</td>\n",
       "      <td>0.616316</td>\n",
       "      <td>-0.053074</td>\n",
       "    </tr>\n",
       "    <tr>\n",
       "      <th>3</th>\n",
       "      <td>-9.078708e-01</td>\n",
       "      <td>-0.465084</td>\n",
       "      <td>0.727782</td>\n",
       "      <td>-0.467874</td>\n",
       "      <td>-0.562211</td>\n",
       "      <td>-0.516627</td>\n",
       "      <td>0.906075</td>\n",
       "      <td>1.346933</td>\n",
       "      <td>-1.346933</td>\n",
       "      <td>-0.492527</td>\n",
       "      <td>-0.289333</td>\n",
       "      <td>0.616316</td>\n",
       "      <td>-0.053074</td>\n",
       "    </tr>\n",
       "    <tr>\n",
       "      <th>4</th>\n",
       "      <td>9.167471e-02</td>\n",
       "      <td>0.478335</td>\n",
       "      <td>0.727782</td>\n",
       "      <td>-0.115977</td>\n",
       "      <td>-0.562211</td>\n",
       "      <td>1.935631</td>\n",
       "      <td>-1.103661</td>\n",
       "      <td>1.346933</td>\n",
       "      <td>-1.346933</td>\n",
       "      <td>-0.492527</td>\n",
       "      <td>-0.289333</td>\n",
       "      <td>0.616316</td>\n",
       "      <td>-0.053074</td>\n",
       "    </tr>\n",
       "  </tbody>\n",
       "</table>\n",
       "</div>"
      ]
     },
     "metadata": {},
     "output_type": "display_data"
    },
    {
     "data": {
      "text/plain": [
       "(712, 13)"
      ]
     },
     "metadata": {},
     "output_type": "display_data"
    },
    {
     "data": {
      "text/plain": [
       "        Age     SibSp     Parch      Fare  Pclass_1  Pclass_2  Pclass_3  \\\n",
       "0 -0.405638  1.087142 -0.522951 -0.172088 -0.579501 -0.484234  0.888819   \n",
       "1  1.139649 -0.514491  0.986859 -0.316645 -0.579501 -0.484234  0.888819   \n",
       "2 -0.560166 -0.514491 -0.522951 -0.476017 -0.579501 -0.484234  0.888819   \n",
       "3  0.907856  1.087142 -0.522951 -0.352411 -0.579501 -0.484234  0.888819   \n",
       "4  0.000000  0.286326 -0.522951 -0.327420 -0.579501 -0.484234  0.888819   \n",
       "\n",
       "   Sex_female  Sex_male  Embarked_C  Embarked_Q  Embarked_S  Embarked_nan  \n",
       "0   -0.718992  0.718992   -0.439697   -0.374336    0.631219           0.0  \n",
       "1   -0.718992  0.718992   -0.439697   -0.374336    0.631219           0.0  \n",
       "2   -0.718992  0.718992    2.274294   -0.374336   -1.584236           0.0  \n",
       "3   -0.718992  0.718992   -0.439697   -0.374336    0.631219           0.0  \n",
       "4    1.390837 -1.390837   -0.439697    2.671397   -1.584236           0.0  "
      ],
      "text/html": [
       "<div>\n",
       "<style scoped>\n",
       "    .dataframe tbody tr th:only-of-type {\n",
       "        vertical-align: middle;\n",
       "    }\n",
       "\n",
       "    .dataframe tbody tr th {\n",
       "        vertical-align: top;\n",
       "    }\n",
       "\n",
       "    .dataframe thead th {\n",
       "        text-align: right;\n",
       "    }\n",
       "</style>\n",
       "<table border=\"1\" class=\"dataframe\">\n",
       "  <thead>\n",
       "    <tr style=\"text-align: right;\">\n",
       "      <th></th>\n",
       "      <th>Age</th>\n",
       "      <th>SibSp</th>\n",
       "      <th>Parch</th>\n",
       "      <th>Fare</th>\n",
       "      <th>Pclass_1</th>\n",
       "      <th>Pclass_2</th>\n",
       "      <th>Pclass_3</th>\n",
       "      <th>Sex_female</th>\n",
       "      <th>Sex_male</th>\n",
       "      <th>Embarked_C</th>\n",
       "      <th>Embarked_Q</th>\n",
       "      <th>Embarked_S</th>\n",
       "      <th>Embarked_nan</th>\n",
       "    </tr>\n",
       "  </thead>\n",
       "  <tbody>\n",
       "    <tr>\n",
       "      <th>0</th>\n",
       "      <td>-0.405638</td>\n",
       "      <td>1.087142</td>\n",
       "      <td>-0.522951</td>\n",
       "      <td>-0.172088</td>\n",
       "      <td>-0.579501</td>\n",
       "      <td>-0.484234</td>\n",
       "      <td>0.888819</td>\n",
       "      <td>-0.718992</td>\n",
       "      <td>0.718992</td>\n",
       "      <td>-0.439697</td>\n",
       "      <td>-0.374336</td>\n",
       "      <td>0.631219</td>\n",
       "      <td>0.0</td>\n",
       "    </tr>\n",
       "    <tr>\n",
       "      <th>1</th>\n",
       "      <td>1.139649</td>\n",
       "      <td>-0.514491</td>\n",
       "      <td>0.986859</td>\n",
       "      <td>-0.316645</td>\n",
       "      <td>-0.579501</td>\n",
       "      <td>-0.484234</td>\n",
       "      <td>0.888819</td>\n",
       "      <td>-0.718992</td>\n",
       "      <td>0.718992</td>\n",
       "      <td>-0.439697</td>\n",
       "      <td>-0.374336</td>\n",
       "      <td>0.631219</td>\n",
       "      <td>0.0</td>\n",
       "    </tr>\n",
       "    <tr>\n",
       "      <th>2</th>\n",
       "      <td>-0.560166</td>\n",
       "      <td>-0.514491</td>\n",
       "      <td>-0.522951</td>\n",
       "      <td>-0.476017</td>\n",
       "      <td>-0.579501</td>\n",
       "      <td>-0.484234</td>\n",
       "      <td>0.888819</td>\n",
       "      <td>-0.718992</td>\n",
       "      <td>0.718992</td>\n",
       "      <td>2.274294</td>\n",
       "      <td>-0.374336</td>\n",
       "      <td>-1.584236</td>\n",
       "      <td>0.0</td>\n",
       "    </tr>\n",
       "    <tr>\n",
       "      <th>3</th>\n",
       "      <td>0.907856</td>\n",
       "      <td>1.087142</td>\n",
       "      <td>-0.522951</td>\n",
       "      <td>-0.352411</td>\n",
       "      <td>-0.579501</td>\n",
       "      <td>-0.484234</td>\n",
       "      <td>0.888819</td>\n",
       "      <td>-0.718992</td>\n",
       "      <td>0.718992</td>\n",
       "      <td>-0.439697</td>\n",
       "      <td>-0.374336</td>\n",
       "      <td>0.631219</td>\n",
       "      <td>0.0</td>\n",
       "    </tr>\n",
       "    <tr>\n",
       "      <th>4</th>\n",
       "      <td>0.000000</td>\n",
       "      <td>0.286326</td>\n",
       "      <td>-0.522951</td>\n",
       "      <td>-0.327420</td>\n",
       "      <td>-0.579501</td>\n",
       "      <td>-0.484234</td>\n",
       "      <td>0.888819</td>\n",
       "      <td>1.390837</td>\n",
       "      <td>-1.390837</td>\n",
       "      <td>-0.439697</td>\n",
       "      <td>2.671397</td>\n",
       "      <td>-1.584236</td>\n",
       "      <td>0.0</td>\n",
       "    </tr>\n",
       "  </tbody>\n",
       "</table>\n",
       "</div>"
      ]
     },
     "metadata": {},
     "output_type": "display_data"
    },
    {
     "data": {
      "text/plain": [
       "(179, 13)"
      ]
     },
     "metadata": {},
     "output_type": "display_data"
    }
   ],
   "execution_count": 121
  },
  {
   "cell_type": "markdown",
   "metadata": {},
   "source": [
    "### ◎ Step 6\n",
    "\n",
    "1. LogisticRegression を使用してモデルの作成を行う\n",
    "1. パラメーターは以下の通りとする\n",
    "    - random_state=0\n",
    "1. 作成したモデルを使用して予測を行う\n",
    "1. f1 Score, Accuracy Score, ROC AUC Score を求め、モデルを評価する"
   ]
  },
  {
   "cell_type": "code",
   "metadata": {
    "ExecuteTime": {
     "end_time": "2025-02-04T00:52:22.429162Z",
     "start_time": "2025-02-04T00:52:22.405157Z"
    }
   },
   "source": [
    "#------------------------------------------------------------#\n",
    "# モデルの作成 & 予測 & 評価（LogisticRegression）\n",
    "#------------------------------------------------------------#\n",
    "#--- 回答欄（↓） ---#\n",
    "model = LogisticRegression(random_state=0)                        # LogisticRegression クラスのインスタンス化\n",
    "model.fit(x_train_std, y_train.values.ravel())                  # モデルの学習\n",
    "\n",
    "y_pred = model.predict(x_test_std)                    # 説明変数のテストデータから予測\n",
    "#--- 回答欄（↑） ---#\n",
    "\n",
    "coef_df = pd.DataFrame(model.coef_, columns=x_train_std.columns)\n",
    "display(f\"intercept_ : {model.intercept_}\")                     # バイアス項 (w0)\n",
    "display(coef_df.T)                                              # 回帰係数\n",
    "\n",
    "print(\"F1 Score:\", f1_score(y_test, y_pred))                    # F1 スコア\n",
    "print(\"Accuracy Score:\", accuracy_score(y_test, y_pred))        # Accracy スコア\n",
    "print(\"ROC AUC Score:\", roc_auc_score(y_test, y_pred))          # ROC AUC Score スコア"
   ],
   "outputs": [
    {
     "data": {
      "text/plain": [
       "'intercept_ : [-0.65447403]'"
      ]
     },
     "metadata": {},
     "output_type": "display_data"
    },
    {
     "data": {
      "text/plain": [
       "                     0\n",
       "Age          -0.512105\n",
       "SibSp        -0.260483\n",
       "Parch        -0.071096\n",
       "Fare          0.107403\n",
       "Pclass_1      0.505850\n",
       "Pclass_2      0.088634\n",
       "Pclass_3     -0.506928\n",
       "Sex_female    0.634470\n",
       "Sex_male     -0.634470\n",
       "Embarked_C    0.049590\n",
       "Embarked_Q    0.120678\n",
       "Embarked_S   -0.137079\n",
       "Embarked_nan  0.176704"
      ],
      "text/html": [
       "<div>\n",
       "<style scoped>\n",
       "    .dataframe tbody tr th:only-of-type {\n",
       "        vertical-align: middle;\n",
       "    }\n",
       "\n",
       "    .dataframe tbody tr th {\n",
       "        vertical-align: top;\n",
       "    }\n",
       "\n",
       "    .dataframe thead th {\n",
       "        text-align: right;\n",
       "    }\n",
       "</style>\n",
       "<table border=\"1\" class=\"dataframe\">\n",
       "  <thead>\n",
       "    <tr style=\"text-align: right;\">\n",
       "      <th></th>\n",
       "      <th>0</th>\n",
       "    </tr>\n",
       "  </thead>\n",
       "  <tbody>\n",
       "    <tr>\n",
       "      <th>Age</th>\n",
       "      <td>-0.512105</td>\n",
       "    </tr>\n",
       "    <tr>\n",
       "      <th>SibSp</th>\n",
       "      <td>-0.260483</td>\n",
       "    </tr>\n",
       "    <tr>\n",
       "      <th>Parch</th>\n",
       "      <td>-0.071096</td>\n",
       "    </tr>\n",
       "    <tr>\n",
       "      <th>Fare</th>\n",
       "      <td>0.107403</td>\n",
       "    </tr>\n",
       "    <tr>\n",
       "      <th>Pclass_1</th>\n",
       "      <td>0.505850</td>\n",
       "    </tr>\n",
       "    <tr>\n",
       "      <th>Pclass_2</th>\n",
       "      <td>0.088634</td>\n",
       "    </tr>\n",
       "    <tr>\n",
       "      <th>Pclass_3</th>\n",
       "      <td>-0.506928</td>\n",
       "    </tr>\n",
       "    <tr>\n",
       "      <th>Sex_female</th>\n",
       "      <td>0.634470</td>\n",
       "    </tr>\n",
       "    <tr>\n",
       "      <th>Sex_male</th>\n",
       "      <td>-0.634470</td>\n",
       "    </tr>\n",
       "    <tr>\n",
       "      <th>Embarked_C</th>\n",
       "      <td>0.049590</td>\n",
       "    </tr>\n",
       "    <tr>\n",
       "      <th>Embarked_Q</th>\n",
       "      <td>0.120678</td>\n",
       "    </tr>\n",
       "    <tr>\n",
       "      <th>Embarked_S</th>\n",
       "      <td>-0.137079</td>\n",
       "    </tr>\n",
       "    <tr>\n",
       "      <th>Embarked_nan</th>\n",
       "      <td>0.176704</td>\n",
       "    </tr>\n",
       "  </tbody>\n",
       "</table>\n",
       "</div>"
      ]
     },
     "metadata": {},
     "output_type": "display_data"
    },
    {
     "name": "stdout",
     "output_type": "stream",
     "text": [
      "F1 Score: 0.71875\n",
      "Accuracy Score: 0.7988826815642458\n",
      "ROC AUC Score: 0.7742424242424242\n"
     ]
    }
   ],
   "execution_count": 122
  },
  {
   "cell_type": "markdown",
   "metadata": {},
   "source": [
    "### ◎ Step 7\n",
    "\n",
    "1. RandomForestClassifier を使用してモデルの作成を行う\n",
    "1. パラメーターは以下の通りとする\n",
    "    - random_state=0\n",
    "1. 作成したモデルを使用して予測を行う\n",
    "1. f1 Score, Accuracy Score, ROC AUC Score を求め、モデルを評価する"
   ]
  },
  {
   "cell_type": "code",
   "metadata": {
    "ExecuteTime": {
     "end_time": "2025-02-04T00:52:22.558159Z",
     "start_time": "2025-02-04T00:52:22.429666Z"
    }
   },
   "source": [
    "#------------------------------------------------------------#\n",
    "# モデルの作成 & 予測 & 評価（RandomForestClassifier）\n",
    "#------------------------------------------------------------#\n",
    "#--- 回答欄（↓） ---#\n",
    "model = RandomForestClassifier(random_state=0)                        # RandomForestRegressor クラスのインスタンス化\n",
    "model.fit(x_train_std, y_train.values.ravel())                  # モデルの学習\n",
    "\n",
    "y_pred = model.predict(x_test_std)                        # 説明変数のテストデータから予測\n",
    "#--- 回答欄（↑） ---#\n",
    "\n",
    "fi_df = pd.DataFrame([model.feature_importances_], columns=x_train_std.columns)\n",
    "display(fi_df.T.sort_values(0, ascending=False))                # 特徴量の影響度\n",
    "\n",
    "print(\"F1 Score:\", f1_score(y_test, y_pred))                    # F1 スコア\n",
    "print(\"Accuracy Score:\", accuracy_score(y_test, y_pred))        # Accracy スコア\n",
    "print(\"ROC AUC Score:\", roc_auc_score(y_test, y_pred))          # ROC AUC Score スコア"
   ],
   "outputs": [
    {
     "data": {
      "text/plain": [
       "                     0\n",
       "Fare          0.255465\n",
       "Age           0.244512\n",
       "Sex_male      0.155218\n",
       "Sex_female    0.125083\n",
       "Pclass_3      0.051916\n",
       "SibSp         0.044452\n",
       "Parch         0.037755\n",
       "Pclass_1      0.033224\n",
       "Pclass_2      0.016915\n",
       "Embarked_S    0.015912\n",
       "Embarked_C    0.012905\n",
       "Embarked_Q    0.006446\n",
       "Embarked_nan  0.000197"
      ],
      "text/html": [
       "<div>\n",
       "<style scoped>\n",
       "    .dataframe tbody tr th:only-of-type {\n",
       "        vertical-align: middle;\n",
       "    }\n",
       "\n",
       "    .dataframe tbody tr th {\n",
       "        vertical-align: top;\n",
       "    }\n",
       "\n",
       "    .dataframe thead th {\n",
       "        text-align: right;\n",
       "    }\n",
       "</style>\n",
       "<table border=\"1\" class=\"dataframe\">\n",
       "  <thead>\n",
       "    <tr style=\"text-align: right;\">\n",
       "      <th></th>\n",
       "      <th>0</th>\n",
       "    </tr>\n",
       "  </thead>\n",
       "  <tbody>\n",
       "    <tr>\n",
       "      <th>Fare</th>\n",
       "      <td>0.255465</td>\n",
       "    </tr>\n",
       "    <tr>\n",
       "      <th>Age</th>\n",
       "      <td>0.244512</td>\n",
       "    </tr>\n",
       "    <tr>\n",
       "      <th>Sex_male</th>\n",
       "      <td>0.155218</td>\n",
       "    </tr>\n",
       "    <tr>\n",
       "      <th>Sex_female</th>\n",
       "      <td>0.125083</td>\n",
       "    </tr>\n",
       "    <tr>\n",
       "      <th>Pclass_3</th>\n",
       "      <td>0.051916</td>\n",
       "    </tr>\n",
       "    <tr>\n",
       "      <th>SibSp</th>\n",
       "      <td>0.044452</td>\n",
       "    </tr>\n",
       "    <tr>\n",
       "      <th>Parch</th>\n",
       "      <td>0.037755</td>\n",
       "    </tr>\n",
       "    <tr>\n",
       "      <th>Pclass_1</th>\n",
       "      <td>0.033224</td>\n",
       "    </tr>\n",
       "    <tr>\n",
       "      <th>Pclass_2</th>\n",
       "      <td>0.016915</td>\n",
       "    </tr>\n",
       "    <tr>\n",
       "      <th>Embarked_S</th>\n",
       "      <td>0.015912</td>\n",
       "    </tr>\n",
       "    <tr>\n",
       "      <th>Embarked_C</th>\n",
       "      <td>0.012905</td>\n",
       "    </tr>\n",
       "    <tr>\n",
       "      <th>Embarked_Q</th>\n",
       "      <td>0.006446</td>\n",
       "    </tr>\n",
       "    <tr>\n",
       "      <th>Embarked_nan</th>\n",
       "      <td>0.000197</td>\n",
       "    </tr>\n",
       "  </tbody>\n",
       "</table>\n",
       "</div>"
      ]
     },
     "metadata": {},
     "output_type": "display_data"
    },
    {
     "name": "stdout",
     "output_type": "stream",
     "text": [
      "F1 Score: 0.6666666666666666\n",
      "Accuracy Score: 0.776536312849162\n",
      "ROC AUC Score: 0.7398550724637681\n"
     ]
    }
   ],
   "execution_count": 123
  },
  {
   "cell_type": "markdown",
   "metadata": {},
   "source": [
    "---\n",
    "## ■問題２\n",
    "\n",
    "次に、生存予測データを読み込み、前処理を行い、問題１で作成したモデルから予測値を求めます。この問題をすべて回答すると、成績は A となります。"
   ]
  },
  {
   "cell_type": "markdown",
   "metadata": {},
   "source": [
    "### ◎ Step 1\n",
    "\n",
    "1. タイタニックの生存予測データ [titanic_target_data.csv] を読み込む\n",
    "1. 説明変数選別し、変数に格納する\n",
    "    - 説明変数：Pclass, Sex, Age, SibSp, Parch, Fare, Embarked\n",
    "\n",
    "ただし、データを読み込む際、カテゴリー変数（Pclass, Sex, Embarked）のデータ型を object として指定しないと正常に動作しなくなるので注意すること。"
   ]
  },
  {
   "cell_type": "code",
   "metadata": {
    "ExecuteTime": {
     "end_time": "2025-02-04T00:52:22.570044Z",
     "start_time": "2025-02-04T00:52:22.559165Z"
    }
   },
   "source": [
    "# 生存予測データの読み込み\n",
    "#------------------------------------------------------------#\n",
    "#--- 回答欄（↓） ---#\n",
    "df = pd.read_csv(\n",
    "    r\"C:\\Users\\shaha\\Desktop\\final_exam_AI_produce\\titanic_target_data.csv\",\n",
    "    dtype={\"Pclass\": \"object\", \"Sex\": \"object\", \"Embarked\": \"object\"}  # カテゴリー変数を object 型として指定\n",
    ")  \n",
    "\n",
    "# 説明変数を格納\n",
    "x_target = df[[\"Pclass\", \"Sex\", \"Age\", \"SibSp\", \"Parch\", \"Fare\", \"Embarked\"]]\n",
    "#--- 回答欄（↑） ---#\n",
    "\n",
    "display(x_target.head())\n"
   ],
   "outputs": [
    {
     "data": {
      "text/plain": [
       "  Pclass     Sex   Age  SibSp  Parch     Fare Embarked\n",
       "0      3    male  34.5      0      0   7.8292        Q\n",
       "1      3  female  47.0      1      0   7.0000        S\n",
       "2      2    male  62.0      0      0   9.6875        Q\n",
       "3      3    male  27.0      0      0   8.6625        S\n",
       "4      3  female  22.0      1      1  12.2875        S"
      ],
      "text/html": [
       "<div>\n",
       "<style scoped>\n",
       "    .dataframe tbody tr th:only-of-type {\n",
       "        vertical-align: middle;\n",
       "    }\n",
       "\n",
       "    .dataframe tbody tr th {\n",
       "        vertical-align: top;\n",
       "    }\n",
       "\n",
       "    .dataframe thead th {\n",
       "        text-align: right;\n",
       "    }\n",
       "</style>\n",
       "<table border=\"1\" class=\"dataframe\">\n",
       "  <thead>\n",
       "    <tr style=\"text-align: right;\">\n",
       "      <th></th>\n",
       "      <th>Pclass</th>\n",
       "      <th>Sex</th>\n",
       "      <th>Age</th>\n",
       "      <th>SibSp</th>\n",
       "      <th>Parch</th>\n",
       "      <th>Fare</th>\n",
       "      <th>Embarked</th>\n",
       "    </tr>\n",
       "  </thead>\n",
       "  <tbody>\n",
       "    <tr>\n",
       "      <th>0</th>\n",
       "      <td>3</td>\n",
       "      <td>male</td>\n",
       "      <td>34.5</td>\n",
       "      <td>0</td>\n",
       "      <td>0</td>\n",
       "      <td>7.8292</td>\n",
       "      <td>Q</td>\n",
       "    </tr>\n",
       "    <tr>\n",
       "      <th>1</th>\n",
       "      <td>3</td>\n",
       "      <td>female</td>\n",
       "      <td>47.0</td>\n",
       "      <td>1</td>\n",
       "      <td>0</td>\n",
       "      <td>7.0000</td>\n",
       "      <td>S</td>\n",
       "    </tr>\n",
       "    <tr>\n",
       "      <th>2</th>\n",
       "      <td>2</td>\n",
       "      <td>male</td>\n",
       "      <td>62.0</td>\n",
       "      <td>0</td>\n",
       "      <td>0</td>\n",
       "      <td>9.6875</td>\n",
       "      <td>Q</td>\n",
       "    </tr>\n",
       "    <tr>\n",
       "      <th>3</th>\n",
       "      <td>3</td>\n",
       "      <td>male</td>\n",
       "      <td>27.0</td>\n",
       "      <td>0</td>\n",
       "      <td>0</td>\n",
       "      <td>8.6625</td>\n",
       "      <td>S</td>\n",
       "    </tr>\n",
       "    <tr>\n",
       "      <th>4</th>\n",
       "      <td>3</td>\n",
       "      <td>female</td>\n",
       "      <td>22.0</td>\n",
       "      <td>1</td>\n",
       "      <td>1</td>\n",
       "      <td>12.2875</td>\n",
       "      <td>S</td>\n",
       "    </tr>\n",
       "  </tbody>\n",
       "</table>\n",
       "</div>"
      ]
     },
     "metadata": {},
     "output_type": "display_data"
    }
   ],
   "execution_count": 124
  },
  {
   "cell_type": "markdown",
   "metadata": {},
   "source": [
    "### ◎ Step 2\n",
    "\n",
    "1. One-hot Encoding を行う\n",
    "1. One-hot の対象となるカテゴリー変数は以下の通り\n",
    "    - カテゴリー変数：Pclass, Sex, Embarked\n",
    "1. データフレームを再構成する"
   ]
  },
  {
   "cell_type": "code",
   "metadata": {
    "ExecuteTime": {
     "end_time": "2025-02-04T00:52:22.574950Z",
     "start_time": "2025-02-04T00:52:22.571049Z"
    }
   },
   "source": [
    "#------------------------------------------------------------#\n",
    "# One-hot Encoding\n",
    "#------------------------------------------------------------#\n",
    "#--- 回答欄（↓） ---#\n",
    "ohe_target =                    # One-hot Encoding の対象となるカラムを指定\n",
    "\n",
    "encoder = OneHotEncoder(sparse_output=False)\n",
    "\n",
    "x_target_ohe = encoder.fit_transform(...)                      # 出力は One-hot 対象のカラムのみ\n",
    "ohe_cols = encoder.get_feature_names_out(input_features=ohe_target)             # カラム名を取得\n",
    "x_target_ohe = pd.concat([x_target.drop(columns=ohe_target), pd.DataFrame(x_target_ohe, columns=ohe_cols)], axis=1)\n",
    "#--- 回答欄（↑） ---#\n",
    "\n",
    "display(x_target_ohe.head())\n",
    "display(x_target_ohe.columns)"
   ],
   "outputs": [
    {
     "ename": "SyntaxError",
     "evalue": "invalid syntax (2535190881.py, line 5)",
     "output_type": "error",
     "traceback": [
      "\u001B[1;36m  Cell \u001B[1;32mIn[125], line 5\u001B[1;36m\u001B[0m\n\u001B[1;33m    ohe_target =                    # One-hot Encoding の対象となるカラムを指定\u001B[0m\n\u001B[1;37m                                    ^\u001B[0m\n\u001B[1;31mSyntaxError\u001B[0m\u001B[1;31m:\u001B[0m invalid syntax\n"
     ]
    }
   ],
   "execution_count": 125
  },
  {
   "cell_type": "markdown",
   "metadata": {},
   "source": [
    "### ◎ Step 3\n",
    "\n",
    "1. 生存実績データ [x_data_ohe] の内容を出力する\n",
    "1. 生存予測データ [x_target_ohe] の内容を出力する"
   ]
  },
  {
   "cell_type": "code",
   "metadata": {
    "ExecuteTime": {
     "end_time": "2025-02-04T00:52:22.575957Z",
     "start_time": "2025-02-04T00:52:22.574950Z"
    }
   },
   "source": [
    "#------------------------------------------------------------#\n",
    "# 生存実績データ\n",
    "#------------------------------------------------------------#\n",
    "print('■生存実績データ')\n",
    "display(x_data_ohe.head())\n",
    "display(x_data_ohe.columns)\n",
    "display(x_data_ohe.shape)\n",
    "\n",
    "#------------------------------------------------------------#\n",
    "# 生存予測データ\n",
    "#------------------------------------------------------------#\n",
    "print('■生存予測データ')\n",
    "display(x_target_ohe.head())\n",
    "display(x_target_ohe.columns)\n",
    "display(x_target_ohe.shape)"
   ],
   "outputs": [],
   "execution_count": null
  },
  {
   "cell_type": "markdown",
   "metadata": {},
   "source": [
    "### ◎ Step 4\n",
    "\n",
    "1. 生存実績データのみの項目を出力する\n",
    "1. 生存予測データのみの項目を出力する\n",
    "\n",
    "この時点で、Pclass_1 と Pclass_1.0 の両方が存在する場合は NG です。"
   ]
  },
  {
   "cell_type": "code",
   "metadata": {},
   "source": [
    "#--- 回答欄（↓） ---#\n",
    "print('■生存実績データのみの項目')\n",
    "print(set(...) - set(...))                  # 生存実績データのみの項目を表示\n",
    "print()\n",
    "#--- 回答欄（↑） ---#\n",
    "\n",
    "#--- 回答欄（↓） ---#\n",
    "print('■生存予測データのみの項目')\n",
    "print(set(...) - set(...))                  # 生存予測データのみの項目を表示\n",
    "print()\n",
    "#--- 回答欄（↑） ---#"
   ],
   "outputs": [],
   "execution_count": null
  },
  {
   "cell_type": "markdown",
   "metadata": {},
   "source": [
    "### ◎ Step 5\n",
    "\n",
    "1. 生存実績データのみに存在する項目 => 生存予測データに値 0 として項目を追加\n",
    "1. 生存予測データのみに存在する項目 => 生存予測データから項目を削除\n",
    "1. 生存予測データの列の並びを生存実績データと同じにする"
   ]
  },
  {
   "cell_type": "code",
   "metadata": {
    "ExecuteTime": {
     "end_time": "2025-02-04T00:52:22.630956Z",
     "start_time": "2025-02-04T00:52:22.617956Z"
    }
   },
   "source": [
    "#------------------------------------------------------------#\n",
    "# 生存予測データに値 0 として項目を追加\n",
    "#------------------------------------------------------------#\n",
    "#--- 回答欄（↓） ---#\n",
    "diff_cols = set(...) - set(...)         # 実績データのみに存在するカラム\n",
    "\n",
    "diff_frame = pd.DataFrame(0, index=x_target_ohe.index, columns=list(diff_cols))     # 値 0 でデータフレームを作成\n",
    "x_target_ohe = pd.concat([x_target_ohe, diff_frame], axis=1)            # x_target_ohe に追加\n",
    "#--- 回答欄（↑） ---#\n",
    "\n",
    "#------------------------------------------------------------#\n",
    "# 生存予測データから項目を削除\n",
    "#------------------------------------------------------------#\n",
    "#--- 回答欄（↓） ---#\n",
    "diff_cols = set(...) - set(...)         # 審査データのみに存在するカラム\n",
    "\n",
    "x_target_ohe = x_target_ohe.drop(list(diff_cols), axis=1)               # x_target_ohe から削除\n",
    "#--- 回答欄（↑） ---#\n",
    "\n",
    "#------------------------------------------------------------#\n",
    "# カラム順を揃える\n",
    "#------------------------------------------------------------#\n",
    "x_target_ohe = x_target_ohe.reindex(x_data_ohe.columns, axis=1)         # 審査データの列の並びを実績データと同じにする"
   ],
   "outputs": [
    {
     "ename": "TypeError",
     "evalue": "'ellipsis' object is not iterable",
     "output_type": "error",
     "traceback": [
      "\u001B[1;31m---------------------------------------------------------------------------\u001B[0m",
      "\u001B[1;31mTypeError\u001B[0m                                 Traceback (most recent call last)",
      "Cell \u001B[1;32mIn[126], line 5\u001B[0m\n\u001B[0;32m      1\u001B[0m \u001B[38;5;66;03m#------------------------------------------------------------#\u001B[39;00m\n\u001B[0;32m      2\u001B[0m \u001B[38;5;66;03m# 生存予測データに値 0 として項目を追加\u001B[39;00m\n\u001B[0;32m      3\u001B[0m \u001B[38;5;66;03m#------------------------------------------------------------#\u001B[39;00m\n\u001B[0;32m      4\u001B[0m \u001B[38;5;66;03m#--- 回答欄（↓） ---#\u001B[39;00m\n\u001B[1;32m----> 5\u001B[0m diff_cols \u001B[38;5;241m=\u001B[39m \u001B[38;5;28;43mset\u001B[39;49m\u001B[43m(\u001B[49m\u001B[38;5;241;43m.\u001B[39;49m\u001B[38;5;241;43m.\u001B[39;49m\u001B[38;5;241;43m.\u001B[39;49m\u001B[43m)\u001B[49m \u001B[38;5;241m-\u001B[39m \u001B[38;5;28mset\u001B[39m(\u001B[38;5;241m.\u001B[39m\u001B[38;5;241m.\u001B[39m\u001B[38;5;241m.\u001B[39m)         \u001B[38;5;66;03m# 実績データのみに存在するカラム\u001B[39;00m\n\u001B[0;32m      7\u001B[0m diff_frame \u001B[38;5;241m=\u001B[39m pd\u001B[38;5;241m.\u001B[39mDataFrame(\u001B[38;5;241m0\u001B[39m, index\u001B[38;5;241m=\u001B[39mx_target_ohe\u001B[38;5;241m.\u001B[39mindex, columns\u001B[38;5;241m=\u001B[39m\u001B[38;5;28mlist\u001B[39m(diff_cols))     \u001B[38;5;66;03m# 値 0 でデータフレームを作成\u001B[39;00m\n\u001B[0;32m      8\u001B[0m x_target_ohe \u001B[38;5;241m=\u001B[39m pd\u001B[38;5;241m.\u001B[39mconcat([x_target_ohe, diff_frame], axis\u001B[38;5;241m=\u001B[39m\u001B[38;5;241m1\u001B[39m)            \u001B[38;5;66;03m# x_target_ohe に追加\u001B[39;00m\n",
      "\u001B[1;31mTypeError\u001B[0m: 'ellipsis' object is not iterable"
     ]
    }
   ],
   "execution_count": 126
  },
  {
   "cell_type": "markdown",
   "metadata": {},
   "source": [
    "### ◎ Step 6\n",
    "\n",
    "1. 生存実績データのみの項目を出力する\n",
    "1. 生存予測データのみの項目を出力する\n",
    "\n",
    "この時点で、生存実績データの項目と生存予測データの項目の内容に差異がない（何も項目が出力されない）状態ならば OK です。"
   ]
  },
  {
   "cell_type": "code",
   "metadata": {
    "ExecuteTime": {
     "end_time": "2025-02-04T00:52:22.829442Z",
     "start_time": "2025-02-04T00:52:22.819054Z"
    }
   },
   "source": [
    "#--- 回答欄（↓） ---#\n",
    "print('■生存実績データのみの項目')\n",
    "print(set(...) - set(...))                  # 生存実績データのみの項目を表示\n",
    "print()\n",
    "#--- 回答欄（↑） ---#\n",
    "\n",
    "#--- 回答欄（↓） ---#\n",
    "print('■生存予測データのみの項目')\n",
    "print(set(...) - set(...))                  # 生存予測データのみの項目を表示\n",
    "print()\n",
    "#--- 回答欄（↑） ---#"
   ],
   "outputs": [
    {
     "name": "stdout",
     "output_type": "stream",
     "text": [
      "■生存実績データのみの項目\n"
     ]
    },
    {
     "ename": "TypeError",
     "evalue": "'ellipsis' object is not iterable",
     "output_type": "error",
     "traceback": [
      "\u001B[1;31m---------------------------------------------------------------------------\u001B[0m",
      "\u001B[1;31mTypeError\u001B[0m                                 Traceback (most recent call last)",
      "Cell \u001B[1;32mIn[127], line 3\u001B[0m\n\u001B[0;32m      1\u001B[0m \u001B[38;5;66;03m#--- 回答欄（↓） ---#\u001B[39;00m\n\u001B[0;32m      2\u001B[0m \u001B[38;5;28mprint\u001B[39m(\u001B[38;5;124m'\u001B[39m\u001B[38;5;124m■生存実績データのみの項目\u001B[39m\u001B[38;5;124m'\u001B[39m)\n\u001B[1;32m----> 3\u001B[0m \u001B[38;5;28mprint\u001B[39m(\u001B[38;5;28;43mset\u001B[39;49m\u001B[43m(\u001B[49m\u001B[38;5;241;43m.\u001B[39;49m\u001B[38;5;241;43m.\u001B[39;49m\u001B[38;5;241;43m.\u001B[39;49m\u001B[43m)\u001B[49m \u001B[38;5;241m-\u001B[39m \u001B[38;5;28mset\u001B[39m(\u001B[38;5;241m.\u001B[39m\u001B[38;5;241m.\u001B[39m\u001B[38;5;241m.\u001B[39m))                  \u001B[38;5;66;03m# 生存実績データのみの項目を表示\u001B[39;00m\n\u001B[0;32m      4\u001B[0m \u001B[38;5;28mprint\u001B[39m()\n\u001B[0;32m      5\u001B[0m \u001B[38;5;66;03m#--- 回答欄（↑） ---#\u001B[39;00m\n\u001B[0;32m      6\u001B[0m \n\u001B[0;32m      7\u001B[0m \u001B[38;5;66;03m#--- 回答欄（↓） ---#\u001B[39;00m\n",
      "\u001B[1;31mTypeError\u001B[0m: 'ellipsis' object is not iterable"
     ]
    }
   ],
   "execution_count": 127
  },
  {
   "cell_type": "markdown",
   "metadata": {},
   "source": [
    "### ◎ Step 7\n",
    "\n",
    "1. SimpleImputer を使用して欠損値補完を行う\n",
    "1. パラメーターは以下の通りとする\n",
    "    - missing_values=np.nan\n",
    "    - strategy='mean'\n",
    "1. データフレームを再構成する\n",
    "\n",
    "なお、目的変数を指定する際は y_data.astype(int) として int 型でデータ型を指定すること"
   ]
  },
  {
   "cell_type": "code",
   "metadata": {
    "ExecuteTime": {
     "end_time": "2025-02-04T00:52:22.897028Z",
     "start_time": "2025-02-04T00:52:22.893Z"
    }
   },
   "source": [
    "#------------------------------------------------------------#\n",
    "# 欠損値補完\n",
    "#------------------------------------------------------------#\n",
    "#--- 回答欄（↓） ---#\n",
    "imputer =                                   # SimpleImputer を構成\n",
    "\n",
    "x_target_imp = imputer.fit_transform(...)   # SimpleImputer を実行\n",
    "x_target_imp =                              # DataFrame を再構成\n",
    "#--- 回答欄（↑） ---#\n",
    "\n",
    "display(x_target_imp.head())\n",
    "display(x_target_imp.shape)"
   ],
   "outputs": [
    {
     "ename": "SyntaxError",
     "evalue": "invalid syntax (3526975328.py, line 5)",
     "output_type": "error",
     "traceback": [
      "\u001B[1;36m  Cell \u001B[1;32mIn[128], line 5\u001B[1;36m\u001B[0m\n\u001B[1;33m    imputer =                                   # SimpleImputer を構成\u001B[0m\n\u001B[1;37m                                                ^\u001B[0m\n\u001B[1;31mSyntaxError\u001B[0m\u001B[1;31m:\u001B[0m invalid syntax\n"
     ]
    }
   ],
   "execution_count": 128
  },
  {
   "cell_type": "markdown",
   "metadata": {},
   "source": [
    "### ◎ Step 8\n",
    "\n",
    "1. StandardScaler を使用して標準化を行う\n",
    "1. パラメーターは以下の通りとする\n",
    "    - 特になし\n",
    "1. データフレームを再構成する"
   ]
  },
  {
   "cell_type": "code",
   "metadata": {
    "ExecuteTime": {
     "end_time": "2025-02-04T00:52:22.940687Z",
     "start_time": "2025-02-04T00:52:22.936499Z"
    }
   },
   "source": [
    "#------------------------------------------------------------#\n",
    "# 標準化\n",
    "#------------------------------------------------------------#\n",
    "#--- 回答欄（↓） ---#\n",
    "scaler =                                    # StandardScaler を構成\n",
    "\n",
    "x_target_std = scaler.fit_transform(...)    # StandardScaler を実行\n",
    "x_target_std =                              # DataFrame を再構成\n",
    "#--- 回答欄（↑） ---#\n",
    "\n",
    "display(x_target_std.head())\n",
    "display(x_target_std.shape)"
   ],
   "outputs": [
    {
     "ename": "SyntaxError",
     "evalue": "invalid syntax (873759491.py, line 5)",
     "output_type": "error",
     "traceback": [
      "\u001B[1;36m  Cell \u001B[1;32mIn[129], line 5\u001B[1;36m\u001B[0m\n\u001B[1;33m    scaler =                                    # StandardScaler を構成\u001B[0m\n\u001B[1;37m                                                ^\u001B[0m\n\u001B[1;31mSyntaxError\u001B[0m\u001B[1;31m:\u001B[0m invalid syntax\n"
     ]
    }
   ],
   "execution_count": 129
  },
  {
   "cell_type": "markdown",
   "metadata": {},
   "source": [
    "### ◎ Step 9\n",
    "\n",
    "1. 問題１で作成したモデルを使用し、生存予測データのクラス値を予測する\n",
    "1. 予測した結果を出力する"
   ]
  },
  {
   "cell_type": "code",
   "metadata": {
    "ExecuteTime": {
     "end_time": "2025-02-04T00:52:23.020417Z",
     "start_time": "2025-02-04T00:52:23.016244Z"
    }
   },
   "source": [
    "#------------------------------------------------------------#\n",
    "# ターゲットデータの予測\n",
    "#------------------------------------------------------------#\n",
    "#--- 回答欄（↓） ---#\n",
    "y_pred =                    # 生存予測データのクラス値を予測\n",
    "y_pred = pd.DataFrame(..., columns=['Predicted_Value'])\n",
    "display(y_pred)\n",
    "#--- 回答欄（↑） ---#"
   ],
   "outputs": [
    {
     "ename": "SyntaxError",
     "evalue": "invalid syntax (3395247570.py, line 5)",
     "output_type": "error",
     "traceback": [
      "\u001B[1;36m  Cell \u001B[1;32mIn[130], line 5\u001B[1;36m\u001B[0m\n\u001B[1;33m    y_pred =                    # 生存予測データのクラス値を予測\u001B[0m\n\u001B[1;37m                                ^\u001B[0m\n\u001B[1;31mSyntaxError\u001B[0m\u001B[1;31m:\u001B[0m invalid syntax\n"
     ]
    }
   ],
   "execution_count": 130
  },
  {
   "cell_type": "markdown",
   "metadata": {},
   "source": [
    "---\n",
    "## ■問題３\n",
    "\n",
    "最後に、ハイパーパラメーターチューニングを行います。この問題をすべて回答すると、成績は S となります。<br>\n",
    "なお、この処理は、本来［問題１］のモデルの作成の手順の中で行うべきものです。"
   ]
  },
  {
   "cell_type": "markdown",
   "metadata": {},
   "source": [
    "### ◎ Step 1\n",
    "\n",
    "1. Pipeline を使用してパイプラインを構成する\n",
    "    - PCA\n",
    "        - 識別子：'pca'\n",
    "        - パラメーター：random_state=0\n",
    "    - RandomForestClassifier\n",
    "        - 識別子：'est'\n",
    "        - パラメーター：random_state=0\n",
    "1. 候補となるハイパーパラメーターを記述する\n",
    "    - PCA\n",
    "        - n_components：'mle', None, 10\n",
    "    - RandomForestClassifier\n",
    "        - n_estimators：50, 100, 200\n",
    "        - max_depth：None, 10, 20, 30\n",
    "1. 選出されたハイパラメーターでモデルの作成する\n",
    "1. 選出されたハイパラメーターの内容を表示する\n",
    "1. 最善のモデルを使用して予測を行う\n",
    "1. f1 Score, Accuracy Score, ROC AUC Score を求め、モデルを評価する"
   ]
  },
  {
   "cell_type": "code",
   "metadata": {
    "ExecuteTime": {
     "end_time": "2025-02-04T00:52:23.057938Z",
     "start_time": "2025-02-04T00:52:23.033434Z"
    }
   },
   "source": [
    "#--- 回答欄（↓） ---#\n",
    "pipe = Pipeline([\n",
    "    (...),                  # 識別子 'pca' で、PCA を構成\n",
    "    (...)                   # 識別子 'est' で、RandomForestClassifier を構成\n",
    "])\n",
    "#--- 回答欄（↑） ---#\n",
    "\n",
    "params = {\n",
    "    '...': ...,             # PCA のハイパーパラメーターの候補（n_components：残す項目の数）\n",
    "    '...': ...,             # RandomForestClassifier のハイパーパラメーターの候補（n_estimators：決定木の数）\n",
    "    '...': ...              # RandomForestClassifier のハイパーパラメーターの候補（max_depth：木の深さ）\n",
    "}\n",
    "\n",
    "gscv = GridSearchCV(estimator=..., param_grid=..., scoring='roc_auc', cv=3)\n",
    "gscv.fit(...)\n",
    "#--- 回答欄（↑） ---#\n",
    "\n",
    "print(\"Best Parameters:\", gscv.best_params_)\n",
    "print(\"Best Cross-Validation Score:\", gscv.best_score_)\n",
    "\n",
    "#--- 回答欄（↓） ---#\n",
    "best_model = gscv.best_estimator_\n",
    "y_pred = best_model.predict(...)\n",
    "#--- 回答欄（↑） ---#\n",
    "\n",
    "print(\"F1 Score:\", f1_score(y_test, y_pred))                    # F1 スコア\n",
    "print(\"Accuracy Score:\", accuracy_score(y_test, y_pred))        # Accracy スコア\n",
    "print(\"ROC AUC Score:\", roc_auc_score(y_test, y_pred))          # ROC AUC Score スコア"
   ],
   "outputs": [
    {
     "ename": "InvalidParameterError",
     "evalue": "The 'estimator' parameter of GridSearchCV must be an object implementing 'fit'. Got Ellipsis instead.",
     "output_type": "error",
     "traceback": [
      "\u001B[1;31m---------------------------------------------------------------------------\u001B[0m",
      "\u001B[1;31mInvalidParameterError\u001B[0m                     Traceback (most recent call last)",
      "Cell \u001B[1;32mIn[131], line 15\u001B[0m\n\u001B[0;32m      8\u001B[0m params \u001B[38;5;241m=\u001B[39m {\n\u001B[0;32m      9\u001B[0m     \u001B[38;5;124m'\u001B[39m\u001B[38;5;124m...\u001B[39m\u001B[38;5;124m'\u001B[39m: \u001B[38;5;241m.\u001B[39m\u001B[38;5;241m.\u001B[39m\u001B[38;5;241m.\u001B[39m,             \u001B[38;5;66;03m# PCA のハイパーパラメーターの候補（n_components：残す項目の数）\u001B[39;00m\n\u001B[0;32m     10\u001B[0m     \u001B[38;5;124m'\u001B[39m\u001B[38;5;124m...\u001B[39m\u001B[38;5;124m'\u001B[39m: \u001B[38;5;241m.\u001B[39m\u001B[38;5;241m.\u001B[39m\u001B[38;5;241m.\u001B[39m,             \u001B[38;5;66;03m# RandomForestClassifier のハイパーパラメーターの候補（n_estimators：決定木の数）\u001B[39;00m\n\u001B[0;32m     11\u001B[0m     \u001B[38;5;124m'\u001B[39m\u001B[38;5;124m...\u001B[39m\u001B[38;5;124m'\u001B[39m: \u001B[38;5;241m.\u001B[39m\u001B[38;5;241m.\u001B[39m\u001B[38;5;241m.\u001B[39m              \u001B[38;5;66;03m# RandomForestClassifier のハイパーパラメーターの候補（max_depth：木の深さ）\u001B[39;00m\n\u001B[0;32m     12\u001B[0m }\n\u001B[0;32m     14\u001B[0m gscv \u001B[38;5;241m=\u001B[39m GridSearchCV(estimator\u001B[38;5;241m=\u001B[39m\u001B[38;5;241m.\u001B[39m\u001B[38;5;241m.\u001B[39m\u001B[38;5;241m.\u001B[39m, param_grid\u001B[38;5;241m=\u001B[39m\u001B[38;5;241m.\u001B[39m\u001B[38;5;241m.\u001B[39m\u001B[38;5;241m.\u001B[39m, scoring\u001B[38;5;241m=\u001B[39m\u001B[38;5;124m'\u001B[39m\u001B[38;5;124mroc_auc\u001B[39m\u001B[38;5;124m'\u001B[39m, cv\u001B[38;5;241m=\u001B[39m\u001B[38;5;241m3\u001B[39m)\n\u001B[1;32m---> 15\u001B[0m \u001B[43mgscv\u001B[49m\u001B[38;5;241;43m.\u001B[39;49m\u001B[43mfit\u001B[49m\u001B[43m(\u001B[49m\u001B[38;5;241;43m.\u001B[39;49m\u001B[38;5;241;43m.\u001B[39;49m\u001B[38;5;241;43m.\u001B[39;49m\u001B[43m)\u001B[49m\n\u001B[0;32m     16\u001B[0m \u001B[38;5;66;03m#--- 回答欄（↑） ---#\u001B[39;00m\n\u001B[0;32m     18\u001B[0m \u001B[38;5;28mprint\u001B[39m(\u001B[38;5;124m\"\u001B[39m\u001B[38;5;124mBest Parameters:\u001B[39m\u001B[38;5;124m\"\u001B[39m, gscv\u001B[38;5;241m.\u001B[39mbest_params_)\n",
      "File \u001B[1;32m~\\Desktop\\pythonProject2\\.venv\\Lib\\site-packages\\sklearn\\base.py:1466\u001B[0m, in \u001B[0;36m_fit_context.<locals>.decorator.<locals>.wrapper\u001B[1;34m(estimator, *args, **kwargs)\u001B[0m\n\u001B[0;32m   1461\u001B[0m partial_fit_and_fitted \u001B[38;5;241m=\u001B[39m (\n\u001B[0;32m   1462\u001B[0m     fit_method\u001B[38;5;241m.\u001B[39m\u001B[38;5;18m__name__\u001B[39m \u001B[38;5;241m==\u001B[39m \u001B[38;5;124m\"\u001B[39m\u001B[38;5;124mpartial_fit\u001B[39m\u001B[38;5;124m\"\u001B[39m \u001B[38;5;129;01mand\u001B[39;00m _is_fitted(estimator)\n\u001B[0;32m   1463\u001B[0m )\n\u001B[0;32m   1465\u001B[0m \u001B[38;5;28;01mif\u001B[39;00m \u001B[38;5;129;01mnot\u001B[39;00m global_skip_validation \u001B[38;5;129;01mand\u001B[39;00m \u001B[38;5;129;01mnot\u001B[39;00m partial_fit_and_fitted:\n\u001B[1;32m-> 1466\u001B[0m     \u001B[43mestimator\u001B[49m\u001B[38;5;241;43m.\u001B[39;49m\u001B[43m_validate_params\u001B[49m\u001B[43m(\u001B[49m\u001B[43m)\u001B[49m\n\u001B[0;32m   1468\u001B[0m \u001B[38;5;28;01mwith\u001B[39;00m config_context(\n\u001B[0;32m   1469\u001B[0m     skip_parameter_validation\u001B[38;5;241m=\u001B[39m(\n\u001B[0;32m   1470\u001B[0m         prefer_skip_nested_validation \u001B[38;5;129;01mor\u001B[39;00m global_skip_validation\n\u001B[0;32m   1471\u001B[0m     )\n\u001B[0;32m   1472\u001B[0m ):\n\u001B[0;32m   1473\u001B[0m     \u001B[38;5;28;01mreturn\u001B[39;00m fit_method(estimator, \u001B[38;5;241m*\u001B[39margs, \u001B[38;5;241m*\u001B[39m\u001B[38;5;241m*\u001B[39mkwargs)\n",
      "File \u001B[1;32m~\\Desktop\\pythonProject2\\.venv\\Lib\\site-packages\\sklearn\\base.py:666\u001B[0m, in \u001B[0;36mBaseEstimator._validate_params\u001B[1;34m(self)\u001B[0m\n\u001B[0;32m    658\u001B[0m \u001B[38;5;28;01mdef\u001B[39;00m \u001B[38;5;21m_validate_params\u001B[39m(\u001B[38;5;28mself\u001B[39m):\n\u001B[0;32m    659\u001B[0m \u001B[38;5;250m    \u001B[39m\u001B[38;5;124;03m\"\"\"Validate types and values of constructor parameters\u001B[39;00m\n\u001B[0;32m    660\u001B[0m \n\u001B[0;32m    661\u001B[0m \u001B[38;5;124;03m    The expected type and values must be defined in the `_parameter_constraints`\u001B[39;00m\n\u001B[1;32m   (...)\u001B[0m\n\u001B[0;32m    664\u001B[0m \u001B[38;5;124;03m    accepted constraints.\u001B[39;00m\n\u001B[0;32m    665\u001B[0m \u001B[38;5;124;03m    \"\"\"\u001B[39;00m\n\u001B[1;32m--> 666\u001B[0m     \u001B[43mvalidate_parameter_constraints\u001B[49m\u001B[43m(\u001B[49m\n\u001B[0;32m    667\u001B[0m \u001B[43m        \u001B[49m\u001B[38;5;28;43mself\u001B[39;49m\u001B[38;5;241;43m.\u001B[39;49m\u001B[43m_parameter_constraints\u001B[49m\u001B[43m,\u001B[49m\n\u001B[0;32m    668\u001B[0m \u001B[43m        \u001B[49m\u001B[38;5;28;43mself\u001B[39;49m\u001B[38;5;241;43m.\u001B[39;49m\u001B[43mget_params\u001B[49m\u001B[43m(\u001B[49m\u001B[43mdeep\u001B[49m\u001B[38;5;241;43m=\u001B[39;49m\u001B[38;5;28;43;01mFalse\u001B[39;49;00m\u001B[43m)\u001B[49m\u001B[43m,\u001B[49m\n\u001B[0;32m    669\u001B[0m \u001B[43m        \u001B[49m\u001B[43mcaller_name\u001B[49m\u001B[38;5;241;43m=\u001B[39;49m\u001B[38;5;28;43mself\u001B[39;49m\u001B[38;5;241;43m.\u001B[39;49m\u001B[38;5;18;43m__class__\u001B[39;49m\u001B[38;5;241;43m.\u001B[39;49m\u001B[38;5;18;43m__name__\u001B[39;49m\u001B[43m,\u001B[49m\n\u001B[0;32m    670\u001B[0m \u001B[43m    \u001B[49m\u001B[43m)\u001B[49m\n",
      "File \u001B[1;32m~\\Desktop\\pythonProject2\\.venv\\Lib\\site-packages\\sklearn\\utils\\_param_validation.py:95\u001B[0m, in \u001B[0;36mvalidate_parameter_constraints\u001B[1;34m(parameter_constraints, params, caller_name)\u001B[0m\n\u001B[0;32m     89\u001B[0m \u001B[38;5;28;01melse\u001B[39;00m:\n\u001B[0;32m     90\u001B[0m     constraints_str \u001B[38;5;241m=\u001B[39m (\n\u001B[0;32m     91\u001B[0m         \u001B[38;5;124mf\u001B[39m\u001B[38;5;124m\"\u001B[39m\u001B[38;5;132;01m{\u001B[39;00m\u001B[38;5;124m'\u001B[39m\u001B[38;5;124m, \u001B[39m\u001B[38;5;124m'\u001B[39m\u001B[38;5;241m.\u001B[39mjoin([\u001B[38;5;28mstr\u001B[39m(c)\u001B[38;5;250m \u001B[39m\u001B[38;5;28;01mfor\u001B[39;00m\u001B[38;5;250m \u001B[39mc\u001B[38;5;250m \u001B[39m\u001B[38;5;129;01min\u001B[39;00m\u001B[38;5;250m \u001B[39mconstraints[:\u001B[38;5;241m-\u001B[39m\u001B[38;5;241m1\u001B[39m]])\u001B[38;5;132;01m}\u001B[39;00m\u001B[38;5;124m or\u001B[39m\u001B[38;5;124m\"\u001B[39m\n\u001B[0;32m     92\u001B[0m         \u001B[38;5;124mf\u001B[39m\u001B[38;5;124m\"\u001B[39m\u001B[38;5;124m \u001B[39m\u001B[38;5;132;01m{\u001B[39;00mconstraints[\u001B[38;5;241m-\u001B[39m\u001B[38;5;241m1\u001B[39m]\u001B[38;5;132;01m}\u001B[39;00m\u001B[38;5;124m\"\u001B[39m\n\u001B[0;32m     93\u001B[0m     )\n\u001B[1;32m---> 95\u001B[0m \u001B[38;5;28;01mraise\u001B[39;00m InvalidParameterError(\n\u001B[0;32m     96\u001B[0m     \u001B[38;5;124mf\u001B[39m\u001B[38;5;124m\"\u001B[39m\u001B[38;5;124mThe \u001B[39m\u001B[38;5;132;01m{\u001B[39;00mparam_name\u001B[38;5;132;01m!r}\u001B[39;00m\u001B[38;5;124m parameter of \u001B[39m\u001B[38;5;132;01m{\u001B[39;00mcaller_name\u001B[38;5;132;01m}\u001B[39;00m\u001B[38;5;124m must be\u001B[39m\u001B[38;5;124m\"\u001B[39m\n\u001B[0;32m     97\u001B[0m     \u001B[38;5;124mf\u001B[39m\u001B[38;5;124m\"\u001B[39m\u001B[38;5;124m \u001B[39m\u001B[38;5;132;01m{\u001B[39;00mconstraints_str\u001B[38;5;132;01m}\u001B[39;00m\u001B[38;5;124m. Got \u001B[39m\u001B[38;5;132;01m{\u001B[39;00mparam_val\u001B[38;5;132;01m!r}\u001B[39;00m\u001B[38;5;124m instead.\u001B[39m\u001B[38;5;124m\"\u001B[39m\n\u001B[0;32m     98\u001B[0m )\n",
      "\u001B[1;31mInvalidParameterError\u001B[0m: The 'estimator' parameter of GridSearchCV must be an object implementing 'fit'. Got Ellipsis instead."
     ]
    }
   ],
   "execution_count": 131
  }
 ],
 "metadata": {
  "kernelspec": {
   "display_name": "Python 3",
   "language": "python",
   "name": "python3"
  },
  "language_info": {
   "codemirror_mode": {
    "name": "ipython",
    "version": 3
   },
   "file_extension": ".py",
   "mimetype": "text/x-python",
   "name": "python",
   "nbconvert_exporter": "python",
   "pygments_lexer": "ipython3",
   "version": "3.11.9"
  }
 },
 "nbformat": 4,
 "nbformat_minor": 2
}
